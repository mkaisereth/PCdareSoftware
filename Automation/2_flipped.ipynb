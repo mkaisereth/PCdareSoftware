{
 "cells": [
  {
   "cell_type": "code",
   "execution_count": null,
   "id": "3dd6a652-6870-4b5f-84f9-43923bf63c1c",
   "metadata": {},
   "outputs": [],
   "source": [
    "import torch\n",
    "from PIL import Image\n",
    "from torchvision.transforms import v2\n",
    "import torchvision.transforms as T\n",
    "import glob\n",
    "import os\n",
    "import posixpath\n"
   ]
  },
  {
   "cell_type": "code",
   "execution_count": null,
   "id": "4b98abae-15a5-47d7-a81c-4b21c2f77a32",
   "metadata": {},
   "outputs": [],
   "source": [
    "# flip all images horizontally and save to output folder\n",
    "cwd = os.getcwd()\n",
    "\n",
    "source_filters = ['./datasample/s/cc/*.jpg', './datasample/m/cc/*.jpg', './datasample/b/cc/*.jpg']\n",
    "destination_folders = ['./datasample/s/cc/flip', './datasample/m/cc/flip', './datasample/b/cc/flip']\n",
    "\n",
    "for i in range(len(source_filters)):\n",
    "    source_filter = source_filters[i]\n",
    "    source_label_filter = source_filter.replace(\".jpg\", \"_label.jpg\")\n",
    "    destination_folder = destination_folders[i]\n",
    "    print(\"\\n\", len(glob.glob(source_filter)), source_filter, source_label_filter, destination_folder)\n",
    "    if not os.path.isdir(os.path.join(cwd,destination_folder)):\n",
    "        os.mkdir(os.path.join(cwd,destination_folder))\n",
    "    \n",
    "    all_images = sorted(glob.glob(source_filter),\n",
    "                        key = lambda j: (len(posixpath.basename(j)), j))\n",
    "    all_labels = sorted(glob.glob(source_label_filter),\n",
    "                        key = lambda j: (len(posixpath.basename(j)), j))\n",
    "    all_inputs = []\n",
    "    \n",
    "    for j in all_images:\n",
    "        if j in all_labels:\n",
    "            continue \n",
    "        else:\n",
    "            all_inputs.append(j)\n",
    "    \n",
    "    for input, label in zip(all_inputs, all_labels):\n",
    "        print('.', end='')\n",
    "        image = Image.open(input)\n",
    "        mask = Image.open(label)\n",
    "        transform = T.Compose([T.PILToTensor()])\n",
    "    \n",
    "        tensor_im = transform(image)\n",
    "        tensor_ma = transform(mask)\n",
    "        \n",
    "        transforms = v2.Compose([\n",
    "            v2.RandomHorizontalFlip(p=1.0),\n",
    "        ])\n",
    "        out_im = transforms(tensor_im)\n",
    "        out_ma = transforms(tensor_ma)\n",
    "        \n",
    "        base1, ext1 = os.path.splitext(os.path.basename(input))  \n",
    "        ext1 = ext1.lower()  \n",
    "        new_path1 = os.path.join(destination_folder, f\"{base1}f{ext1}\")\n",
    "        \n",
    "        base2, ext2 = os.path.splitext(os.path.basename(label)) \n",
    "        ext2 = ext2.lower()  \n",
    "        new_path2 = os.path.join(destination_folder, f\"{base2[:-6]}f_label{ext2}\")\n",
    "        \n",
    "        trans = T.ToPILImage()\n",
    "        ima = trans(out_im)\n",
    "        mas = trans(out_ma)\n",
    "        ima.save(new_path1)\n",
    "        mas.save(new_path2)\n",
    "    \n",
    "print(\".\")\n",
    "print(\"finished\")"
   ]
  },
  {
   "cell_type": "code",
   "execution_count": null,
   "id": "6254d99f-874c-4783-be6f-957916e0efb6",
   "metadata": {},
   "outputs": [],
   "source": []
  }
 ],
 "metadata": {
  "kernelspec": {
   "display_name": "Python 3 (ipykernel)",
   "language": "python",
   "name": "python3"
  },
  "language_info": {
   "codemirror_mode": {
    "name": "ipython",
    "version": 3
   },
   "file_extension": ".py",
   "mimetype": "text/x-python",
   "name": "python",
   "nbconvert_exporter": "python",
   "pygments_lexer": "ipython3",
   "version": "3.11.7"
  }
 },
 "nbformat": 4,
 "nbformat_minor": 5
}
