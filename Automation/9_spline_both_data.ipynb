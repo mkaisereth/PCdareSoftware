{
 "cells": [
  {
   "cell_type": "code",
   "execution_count": null,
   "id": "05e1f94c-6787-4ab0-82bb-97b044623ca9",
   "metadata": {},
   "outputs": [],
   "source": [
    "import numpy as np\n",
    "import cv2 as cv\n",
    "import math\n"
   ]
  },
  {
   "cell_type": "code",
   "execution_count": null,
   "id": "8c3a6026-826a-4e6b-865a-8ac877926028",
   "metadata": {},
   "outputs": [],
   "source": [
    "im = cv.imread('./datasample/test_set_yolo/b5_label.jpg')\n",
    "assert im is not None, \"file could not be read, check with os.path.exists()\"\n",
    "imgray = cv.cvtColor(im, cv.COLOR_BGR2GRAY)\n",
    "ret, thresh = cv.threshold(imgray, 127, 255, 0)\n",
    "contours, hierarchy = cv.findContours(thresh, cv.RETR_EXTERNAL, cv.CHAIN_APPROX_TC89_L1 )\n"
   ]
  },
  {
   "cell_type": "code",
   "execution_count": null,
   "id": "63a619bc-2552-486d-92a5-ecf6c09c5adc",
   "metadata": {},
   "outputs": [],
   "source": [
    "print(len(contours))"
   ]
  },
  {
   "cell_type": "code",
   "execution_count": null,
   "id": "d7aa1e00-2f9c-44ad-bf0b-a697abefa793",
   "metadata": {},
   "outputs": [],
   "source": [
    "centroids = []\n",
    "for cnt in contours:\n",
    "  if cv.contourArea(cnt) > 0:  \n",
    "    M = cv.moments(cnt)\n",
    "    cX = int(M[\"m10\"] / M[\"m00\"])\n",
    "    cY = int(M[\"m01\"] / M[\"m00\"])\n",
    "    centroids.append((cX, cY))\n",
    "\n",
    "thickness = 20  \n",
    "thick=20\n",
    "color = (255, 255, 255)  \n",
    "blank = np.zeros_like(im, dtype=np.uint8)\n",
    "\n",
    "print(centroids)\n",
    "\n",
    "for i in range(len(centroids) - 1):\n",
    " start_point = centroids[i]\n",
    " end_point = centroids[i + 1]\n",
    "  \n",
    " cv.line(blank, start_point, end_point, color, thick)\n",
    "\n",
    "cv.imwrite(\"./output/cvline.jpg\", blank)\n"
   ]
  },
  {
   "cell_type": "code",
   "execution_count": null,
   "id": "1ce2afa0-a9ac-4acb-902a-8fa30b42d911",
   "metadata": {},
   "outputs": [],
   "source": [
    "im2 = cv.imread('./output/processed/testb5_prediction.jpg')\n",
    "assert im2 is not None, \"file could not be read, check with os.path.exists()\"\n",
    "imgray = cv.cvtColor(im2, cv.COLOR_BGR2GRAY)\n",
    "ret, thresh = cv.threshold(imgray, 127, 255, 0)\n",
    "contours2, hierarchy = cv.findContours(thresh, cv.RETR_EXTERNAL, cv.CHAIN_APPROX_TC89_L1 )"
   ]
  },
  {
   "cell_type": "code",
   "execution_count": null,
   "id": "31c7ada3-43f6-4d5e-843e-a21d3399966e",
   "metadata": {},
   "outputs": [],
   "source": [
    "print(len(contours2))"
   ]
  },
  {
   "cell_type": "code",
   "execution_count": null,
   "id": "ae0351db-394c-4a3f-aeff-4da62fa26de3",
   "metadata": {},
   "outputs": [],
   "source": [
    "centroids2 = []\n",
    "for cnt in contours2:\n",
    "  if cv.contourArea(cnt) > 0:  \n",
    "    M = cv.moments(cnt)\n",
    "    cX = int(M[\"m10\"] / M[\"m00\"])\n",
    "    cY = int(M[\"m01\"] / M[\"m00\"])\n",
    "    centroids2.append((cX, cY))\n",
    "\n",
    "\n",
    "thickness = 20  \n",
    "thick=20\n",
    "color = (255, 255, 255)  \n",
    "#spline = cv.imread('/Users/kubra/Desktop/thesis/code/spine-segmentation/poly/spline_resized.jpg')\n",
    "blank = np.zeros_like(im, dtype=np.uint8)\n",
    "\n",
    "\n",
    "print(centroids2)\n",
    "\n",
    "for i in range(len(centroids2) - 1):\n",
    " \n",
    " start_point2 = centroids2[i]\n",
    " end_point2 = centroids2[i + 1]\n",
    "  \n",
    " cv.line(blank, start_point2, end_point2, color, thick)\n",
    "\n",
    "cv.imwrite(\"./output/ay.jpg\", blank)\n"
   ]
  },
  {
   "cell_type": "code",
   "execution_count": null,
   "id": "38b4b4e9-bf6f-4922-a895-5f29ea54c59a",
   "metadata": {},
   "outputs": [],
   "source": [
    "pixel_spacing = [0.179363, 0.179363]\n"
   ]
  },
  {
   "cell_type": "code",
   "execution_count": null,
   "id": "646b7172-e8c3-405a-9c8d-b34f315e9502",
   "metadata": {},
   "outputs": [],
   "source": [
    "differences = []\n",
    "\n",
    "for i in range(len(centroids2)):\n",
    "    surg_x, surg_y = centroids[i]\n",
    "    pred_x, pred_y = centroids2[i]\n",
    "\n",
    "    diff_x = pred_x - surg_x\n",
    "    diff_y = pred_y - surg_y\n",
    "\n",
    "    diff_x_mm = diff_x * pixel_spacing[0]\n",
    "    diff_y_mm = diff_y * pixel_spacing[1]\n",
    "    differences.append((diff_x_mm, diff_y_mm))\n",
    "\n",
    "print(differences)\n"
   ]
  },
  {
   "cell_type": "code",
   "execution_count": null,
   "id": "8f6ab816-85c3-4d03-bb41-353e4c80c177",
   "metadata": {},
   "outputs": [],
   "source": [
    "MSE = np.square(differences).mean()\n",
    " \n",
    "RMSE = math.sqrt(MSE)\n",
    "print(RMSE)"
   ]
  },
  {
   "cell_type": "code",
   "execution_count": null,
   "id": "c1fb3b58-da41-4772-82f0-a54d1cefa5fd",
   "metadata": {},
   "outputs": [],
   "source": []
  }
 ],
 "metadata": {
  "kernelspec": {
   "display_name": "Python 3 (ipykernel)",
   "language": "python",
   "name": "python3"
  },
  "language_info": {
   "codemirror_mode": {
    "name": "ipython",
    "version": 3
   },
   "file_extension": ".py",
   "mimetype": "text/x-python",
   "name": "python",
   "nbconvert_exporter": "python",
   "pygments_lexer": "ipython3",
   "version": "3.11.7"
  }
 },
 "nbformat": 4,
 "nbformat_minor": 5
}
