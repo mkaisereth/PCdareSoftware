{
 "cells": [
  {
   "cell_type": "code",
   "execution_count": null,
   "id": "76bdc37e-46e8-4f81-bd55-93c67d269844",
   "metadata": {},
   "outputs": [],
   "source": [
    "%load_ext autoreload\n",
    "%autoreload 2"
   ]
  },
  {
   "cell_type": "code",
   "execution_count": null,
   "id": "55c89116-a604-4dc2-be63-adffad52d9b9",
   "metadata": {},
   "outputs": [],
   "source": [
    "from torch.utils.data import DataLoader\n",
    "from unet import UNet\n",
    "from data_loading import XRayDataset2\n",
    "from data_loading import XRayDataset\n",
    "import lightning as L\n",
    "import pathlib\n",
    "import torch\n",
    "import data_processing\n",
    "import numpy as np\n",
    "from lightning.pytorch.callbacks import TQDMProgressBar\n",
    "from torchvision import transforms\n",
    "import matplotlib.pyplot as plt\n",
    "from lightning.pytorch.loggers import TensorBoardLogger\n",
    "import lightning as L\n",
    "import skimage as ski\n",
    "import worker_seed\n",
    "import loss\n",
    "import os\n",
    "import posixpath\n",
    "import glob\n",
    "import cv2\n",
    "from torchvision.transforms import v2\n",
    "from numpy import asarray\n"
   ]
  },
  {
   "cell_type": "markdown",
   "id": "4c2c556a-ba05-4681-ac5f-c4bb625b47c6",
   "metadata": {},
   "source": [
    "# Load data\n"
   ]
  },
  {
   "cell_type": "code",
   "execution_count": null,
   "id": "b1a26c98-74f9-40b7-8261-7dd22e53581e",
   "metadata": {},
   "outputs": [],
   "source": [
    "xray_dataset = XRayDataset2(pathlib.Path.cwd() / \"output/yolo_output\", data_processing.preprocess_inputs)"
   ]
  },
  {
   "cell_type": "code",
   "execution_count": null,
   "id": "101495a7-e1ae-47bf-83c6-6440689abf64",
   "metadata": {},
   "outputs": [],
   "source": [
    "print(xray_dataset.__len__())"
   ]
  },
  {
   "cell_type": "markdown",
   "id": "1d54f44b-02fb-4d96-b155-a77750e741e2",
   "metadata": {},
   "source": [
    "# Load model"
   ]
  },
  {
   "cell_type": "code",
   "execution_count": null,
   "id": "e2a1baa6-a348-49a4-a2f6-522988a0c029",
   "metadata": {},
   "outputs": [],
   "source": [
    "checkpoint = torch.load(\"./checkpoints/ckp_yolo_aug_unet.ckpt\", map_location=torch.device('cpu'))\n",
    "loaded = UNet(loss.Loss)\n",
    "loaded.load_state_dict(checkpoint[\"state_dict\"])"
   ]
  },
  {
   "cell_type": "code",
   "execution_count": null,
   "id": "f7b76eda-50e7-4b0a-97c4-283526751af5",
   "metadata": {},
   "outputs": [],
   "source": [
    "model = loaded.eval()"
   ]
  },
  {
   "cell_type": "markdown",
   "id": "f7ad7758-1efa-4606-a489-c8fcac5c915e",
   "metadata": {},
   "source": [
    "# Run inference"
   ]
  },
  {
   "cell_type": "code",
   "execution_count": null,
   "id": "a1baa237-af71-45c7-b969-a27733bde1d1",
   "metadata": {},
   "outputs": [],
   "source": [
    "from pathlib import Path\n",
    "Path(\"./output/inference\").mkdir(parents=True, exist_ok=True)\n",
    "\n",
    "for i in range(len(xray_dataset)):\n",
    "    sample_input = xray_dataset.__getitem__(i)\n",
    "    sample_input_filename = xray_dataset.get_filename(i)\n",
    "    model.eval()\n",
    "    with torch.no_grad():\n",
    "        predictions = model.forward(sample_input.unsqueeze(0))\n",
    "    base, ext = os.path.splitext(os.path.basename(sample_input_filename))  \n",
    "    ext = ext.lower()\n",
    "    input = data_processing.resize_to_roughy_input_size(sample_input.squeeze()).permute(1, 2, 0)\n",
    "    prediction = data_processing.postprocess(data_processing.resize_to_roughy_input_size(predictions.squeeze()))\n",
    "    print('.', end='')\n",
    "    cv2.imwrite(f\"./output/inference/{base}_prediction{ext}\", prediction)\n",
    "\n",
    "print(\".\")\n",
    "print(\"finished\")"
   ]
  },
  {
   "cell_type": "code",
   "execution_count": null,
   "id": "f9cf015f-08bc-4713-aaa0-656969dde541",
   "metadata": {},
   "outputs": [],
   "source": []
  }
 ],
 "metadata": {
  "kernelspec": {
   "display_name": "Python 3 (ipykernel)",
   "language": "python",
   "name": "python3"
  },
  "language_info": {
   "codemirror_mode": {
    "name": "ipython",
    "version": 3
   },
   "file_extension": ".py",
   "mimetype": "text/x-python",
   "name": "python",
   "nbconvert_exporter": "python",
   "pygments_lexer": "ipython3",
   "version": "3.11.7"
  }
 },
 "nbformat": 4,
 "nbformat_minor": 5
}
