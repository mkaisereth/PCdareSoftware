{
 "cells": [
  {
   "cell_type": "code",
   "execution_count": null,
   "id": "9bb930e1-001d-4ac7-8f77-98473d205817",
   "metadata": {},
   "outputs": [],
   "source": [
    "from ultralytics import YOLO\n",
    "import torch\n",
    "from PIL import Image\n",
    "from torchvision.transforms import v2\n",
    "import torchvision.transforms as T\n",
    "import glob\n",
    "import os\n",
    "import posixpath\n",
    "import cv2\n",
    "from numpy import asarray\n"
   ]
  },
  {
   "cell_type": "code",
   "execution_count": null,
   "id": "95432aa6-a64e-4e65-9e07-05e76692d070",
   "metadata": {},
   "outputs": [],
   "source": [
    "source = sorted(glob.glob('datasample/test_set_yolo/test*.jpg'),\n",
    "                    key = lambda i: (len(posixpath.basename(i)), i))\n",
    "print(source)"
   ]
  },
  {
   "cell_type": "code",
   "execution_count": null,
   "id": "9bd3419e-dd3c-4443-b250-5ea49b8f97c5",
   "metadata": {},
   "outputs": [],
   "source": [
    "model = YOLO(\"yolov8n.yaml\") \n",
    "model = YOLO(\"./checkpoints/ckp_yolo_model.pt\")\n"
   ]
  },
  {
   "cell_type": "code",
   "execution_count": null,
   "id": "c80740f9-b08b-4341-a85c-818351bda9b4",
   "metadata": {},
   "outputs": [],
   "source": [
    "result = model.predict(source, save=True, conf=0.5)"
   ]
  },
  {
   "cell_type": "code",
   "execution_count": null,
   "id": "b4f5bbc8-d7fd-44f3-b9c9-0fe08a6bfc6a",
   "metadata": {},
   "outputs": [],
   "source": [
    "i = range(len(source))"
   ]
  },
  {
   "cell_type": "code",
   "execution_count": null,
   "id": "5d9a3f13-2fdd-49ef-81be-1327ecabc5e4",
   "metadata": {},
   "outputs": [],
   "source": [
    "source2 = sorted(glob.glob('datasample/test_set_yolo/*_label.jpg'),\n",
    "                    key = lambda i: (len(posixpath.basename(i)), i))"
   ]
  },
  {
   "cell_type": "code",
   "execution_count": null,
   "id": "3df8a060-80ff-439c-a87f-04e193d125ba",
   "metadata": {},
   "outputs": [],
   "source": [
    "source2"
   ]
  },
  {
   "cell_type": "code",
   "execution_count": null,
   "id": "5e806da3-dd3c-42d7-b2e3-fdde44b320e2",
   "metadata": {},
   "outputs": [],
   "source": [
    "def add_margin(pil_img, top, right, bottom, left, color):\n",
    "    width, height = pil_img.size\n",
    "    new_width = width + right + left\n",
    "    new_height = height + top + bottom\n",
    "    result = Image.new(pil_img.mode, (new_width, new_height), color)\n",
    "    result.paste(pil_img, (left, top))\n",
    "    return result"
   ]
  },
  {
   "cell_type": "code",
   "execution_count": null,
   "id": "40cd0362-4f46-470e-bf07-c7767c27acfc",
   "metadata": {},
   "outputs": [],
   "source": [
    "bbox1 = []\n",
    "name = []\n",
    "\n",
    "for n in i:\n",
    "    boxes = result[n].boxes.xywhn.tolist()\n",
    "    classes = result[n].boxes.cls.tolist()\n",
    "    names = result[n].names\n",
    "    confidences = result[n].boxes.conf.tolist()\n",
    "    # k = result[n].boxes.keypoints.tolist()\n",
    "    bbox1.append(boxes)\n",
    "    name.append(confidences)"
   ]
  },
  {
   "cell_type": "code",
   "execution_count": null,
   "id": "64295796-b6ab-4c1b-973d-cfbe737fa23a",
   "metadata": {},
   "outputs": [],
   "source": [
    "bbox1"
   ]
  },
  {
   "cell_type": "code",
   "execution_count": null,
   "id": "08fe265f-92b1-4716-8497-35998356c04e",
   "metadata": {},
   "outputs": [],
   "source": [
    "bbox= []\n",
    "\n",
    "for n in i:\n",
    "    b = bbox1[n]\n",
    "    c = b[0]\n",
    "    bbox.append(c)"
   ]
  },
  {
   "cell_type": "code",
   "execution_count": null,
   "id": "d677c618-39b7-4f53-9988-d625e58d57ae",
   "metadata": {},
   "outputs": [],
   "source": [
    "from pathlib import Path\n",
    "Path(\"./output/im/\").mkdir(parents=True, exist_ok=True)\n",
    "Path(\"./output/lab/\").mkdir(parents=True, exist_ok=True)\n",
    "Path(\"./output/txt\").mkdir(parents=True, exist_ok=True)\n",
    "\n",
    "for x, image, label in zip(bbox, source, source2):\n",
    "    im = Image.open(image)\n",
    "    lab = Image.open(label)\n",
    "    tens = cv2.imread(image) \n",
    "    tens_lab = cv2.imread(label)\n",
    "    \n",
    "    image_width = tens.shape[1]\n",
    "    image_height = tens.shape[0] \n",
    "\n",
    "    x_center = x[0]\n",
    "    y_center = x[1]\n",
    "    width = x[2]\n",
    "    height = x[3]\n",
    "\n",
    "    w = width * image_width\n",
    "    h = height * image_height\n",
    "    end_point0 = int((x_center * image_width) - (w/2))\n",
    "    end_point1 = int((y_center * image_height) - (h/2))\n",
    "    start_point0 = int(w + end_point0)\n",
    "    start_point1 = int(h + end_point1)\n",
    " \n",
    "    cropped_image1 = tens[end_point1:start_point1, end_point0:start_point0]\n",
    "    cropped_label1 = tens_lab[end_point1:start_point1, end_point0:start_point0]\n",
    "    cropped = Image.fromarray(cropped_image1)\n",
    "    cropped_lab = Image.fromarray(cropped_label1)\n",
    "    resize = v2.Resize(size=(1024, 512)) \n",
    "    cropped_image2 = resize(cropped)\n",
    "    cropped_label2 = resize(cropped_lab)\n",
    "    im_new = add_margin(cropped_image2, 0, 256, 0, 256, (0, 0, 0))\n",
    "    lab_new = add_margin(cropped_label2, 0, 256, 0, 256, (0, 0, 0))\n",
    "    cropped_image = asarray(im_new)\n",
    "    cropped_label = asarray(lab_new)\n",
    "\n",
    "    cropped_image_width = cropped_image1.shape[1]\n",
    "    cropped_image_height = cropped_label1.shape[0] \n",
    "    \n",
    "    x1 = end_point0\n",
    "    y1 = end_point1\n",
    "    x2 = image_width - start_point0\n",
    "    y2 = image_height - start_point1\n",
    "\n",
    "    base, ext = os.path.splitext(os.path.basename(image))  \n",
    "    ext = ext.lower()  \n",
    "\n",
    "    base2, ext2 = os.path.splitext(os.path.basename(label))  \n",
    "    ext2 = ext2.lower() \n",
    "    \n",
    "    cv2.imwrite('./output/im/'f\"{base}{ext}\", cropped_image)\n",
    "    cv2.imwrite('./output/lab/'f\"{base2}{ext2}\", cropped_label)\n",
    "    destination_path = os.path.join(\"./output/txt\", f\"{base}.txt\")\n",
    "\n",
    "    f = open(destination_path, \"w\")\n",
    "    f.write(str(cropped_image_width) + \" \" + str(cropped_image_height) + \" \" + str(x1) + \" \" + str(y1) + \" \" + str(x2) + \" \" + str(y2))\n",
    "    f.close()\n"
   ]
  },
  {
   "cell_type": "code",
   "execution_count": null,
   "id": "0c685a8c-e49d-4143-99bb-cb0f3c82e1bd",
   "metadata": {},
   "outputs": [],
   "source": []
  }
 ],
 "metadata": {
  "kernelspec": {
   "display_name": "Python 3 (ipykernel)",
   "language": "python",
   "name": "python3"
  },
  "language_info": {
   "codemirror_mode": {
    "name": "ipython",
    "version": 3
   },
   "file_extension": ".py",
   "mimetype": "text/x-python",
   "name": "python",
   "nbconvert_exporter": "python",
   "pygments_lexer": "ipython3",
   "version": "3.11.7"
  }
 },
 "nbformat": 4,
 "nbformat_minor": 5
}
