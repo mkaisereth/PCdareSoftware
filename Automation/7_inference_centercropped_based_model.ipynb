{
 "cells": [
  {
   "cell_type": "code",
   "execution_count": null,
   "id": "76bdc37e-46e8-4f81-bd55-93c67d269844",
   "metadata": {},
   "outputs": [],
   "source": [
    "%load_ext autoreload\n",
    "%autoreload 2"
   ]
  },
  {
   "cell_type": "code",
   "execution_count": null,
   "id": "55c89116-a604-4dc2-be63-adffad52d9b9",
   "metadata": {},
   "outputs": [],
   "source": [
    "from torch.utils.data import DataLoader\n",
    "from unet import UNet\n",
    "from data_loading import XRayDataset\n",
    "import lightning as L\n",
    "import pathlib\n",
    "import torch\n",
    "import data_processing\n",
    "import numpy as np\n",
    "from lightning.pytorch.callbacks import TQDMProgressBar\n",
    "from torchvision import transforms\n",
    "import matplotlib.pyplot as plt\n",
    "from lightning.pytorch.loggers import TensorBoardLogger\n",
    "import lightning as L\n",
    "import skimage as ski\n",
    "import worker_seed\n",
    "import loss"
   ]
  },
  {
   "cell_type": "code",
   "execution_count": null,
   "id": "c4684a41-66ac-4eb0-a9b1-9386f9ed229b",
   "metadata": {},
   "outputs": [],
   "source": [
    "g = torch.Generator()\n",
    "g.manual_seed(0)"
   ]
  },
  {
   "cell_type": "code",
   "execution_count": null,
   "id": "b1a26c98-74f9-40b7-8261-7dd22e53581e",
   "metadata": {},
   "outputs": [],
   "source": [
    "xray_dataset_training = XRayDataset(pathlib.Path.cwd() / \"./datasample/cc_no_aug\",\n",
    "                           data_processing.preprocess_inputs,\n",
    "                           data_processing.preprocess_labels)\n",
    "xray_dataset_validation = XRayDataset(pathlib.Path.cwd() / \"./datasample/cc_no_aug\" / \"validation\",\n",
    "                           data_processing.preprocess_inputs,\n",
    "                           data_processing.preprocess_labels)\n",
    "\n",
    "train_dataloader = DataLoader(xray_dataset_training,\n",
    "                              batch_size=1,\n",
    "                              shuffle=True,\n",
    "                              num_workers=7,\n",
    "                              worker_init_fn=worker_seed.seed_worker,\n",
    "                              generator=g,)\n",
    "val_dataloader = DataLoader(xray_dataset_validation, batch_size=1, shuffle=False)"
   ]
  },
  {
   "cell_type": "code",
   "execution_count": null,
   "id": "101495a7-e1ae-47bf-83c6-6440689abf64",
   "metadata": {},
   "outputs": [],
   "source": [
    "print(xray_dataset_training.__len__())"
   ]
  },
  {
   "cell_type": "code",
   "execution_count": null,
   "id": "e2a1baa6-a348-49a4-a2f6-522988a0c029",
   "metadata": {},
   "outputs": [],
   "source": [
    "checkpoint = torch.load(\"./checkpoints/ckp_cc_aug_unet.ckpt\", map_location=torch.device('cpu'))\n",
    "loaded = UNet(loss.Loss)\n",
    "loaded.load_state_dict(checkpoint[\"state_dict\"])"
   ]
  },
  {
   "cell_type": "code",
   "execution_count": null,
   "id": "f7b76eda-50e7-4b0a-97c4-283526751af5",
   "metadata": {},
   "outputs": [],
   "source": [
    "model = loaded.eval()  "
   ]
  },
  {
   "cell_type": "code",
   "execution_count": null,
   "id": "4bfd0f5e-715b-4ed7-bf91-d598b9f0421c",
   "metadata": {},
   "outputs": [],
   "source": [
    "iter_test_loader = iter(val_dataloader)"
   ]
  },
  {
   "cell_type": "code",
   "execution_count": null,
   "id": "c574537c-6563-4d65-beff-0d1433ea1f96",
   "metadata": {},
   "outputs": [],
   "source": [
    "sample_input, sample_label = next(iter_test_loader)\n",
    "sample_input, sample_label = sample_input[0].unsqueeze(0), sample_label[0].unsqueeze(0)\n",
    "model.eval()\n",
    "with torch.no_grad():\n",
    "    predictions = model.forward(sample_input)"
   ]
  },
  {
   "cell_type": "code",
   "execution_count": null,
   "id": "ded7223b-b3cd-43e8-88a8-a1e85a7bcc56",
   "metadata": {},
   "outputs": [],
   "source": [
    "print(sample_input.shape)\n",
    "torch.max(predictions)\n",
    "print(predictions.squeeze().size())\n",
    "print(sample_input.size())"
   ]
  },
  {
   "cell_type": "code",
   "execution_count": null,
   "id": "62e59c3e-67e0-4dc3-88c4-3bdd893872c4",
   "metadata": {},
   "outputs": [],
   "source": [
    "fig, axs = plt.subplots(1, 3, figsize=(10, 3))\n",
    "imgs = [data_processing.resize_to_roughy_input_size(sample_input.squeeze()).permute(1, 2, 0), \n",
    "        data_processing.postprocess(data_processing.resize_to_roughy_input_size(sample_label.squeeze())),\n",
    "        data_processing.postprocess(data_processing.resize_to_roughy_input_size(predictions.squeeze()))]\n",
    "\n",
    "for ax, img in zip(axs, imgs):\n",
    "    ax.imshow(img, cmap=\"gray\", vmin=0, vmax=255)"
   ]
  },
  {
   "cell_type": "code",
   "execution_count": null,
   "id": "13982401-6d3f-4dd1-b240-6e302ffd2883",
   "metadata": {},
   "outputs": [],
   "source": []
  }
 ],
 "metadata": {
  "kernelspec": {
   "display_name": "Python 3 (ipykernel)",
   "language": "python",
   "name": "python3"
  },
  "language_info": {
   "codemirror_mode": {
    "name": "ipython",
    "version": 3
   },
   "file_extension": ".py",
   "mimetype": "text/x-python",
   "name": "python",
   "nbconvert_exporter": "python",
   "pygments_lexer": "ipython3",
   "version": "3.11.7"
  }
 },
 "nbformat": 4,
 "nbformat_minor": 5
}
