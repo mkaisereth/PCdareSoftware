{
 "cells": [
  {
   "cell_type": "code",
   "execution_count": null,
   "id": "707f31c4-8348-4b54-9a0b-88e4cdbb06ec",
   "metadata": {},
   "outputs": [],
   "source": [
    "from ultralytics import YOLO\n"
   ]
  },
  {
   "cell_type": "code",
   "execution_count": null,
   "id": "3f407449-78f6-4090-939c-f4decd5bf99f",
   "metadata": {},
   "outputs": [],
   "source": [
    "import os\n",
    "import io\n",
    "cwd = os.getcwd()\n",
    "print(cwd)\n",
    "\n",
    "f = open(\"yolo_relative.yaml\", \"r\")\n",
    "lines = f.readlines()\n",
    "for lineInd in range(len(lines)):\n",
    "    line = lines[lineInd]\n",
    "    if line.startswith(\"path: ./\"):\n",
    "        lines[lineInd] = line.replace(\"path: ./\", \"path: \"+cwd+\"/\")\n",
    "        print(lines[lineInd])\n",
    "f = open(\"xray.yaml\", \"w\")\n",
    "f.writelines(lines)\n",
    "f.close()"
   ]
  },
  {
   "cell_type": "code",
   "execution_count": null,
   "id": "7ebdca7d-cd42-4ea1-be31-145574348eb6",
   "metadata": {},
   "outputs": [],
   "source": [
    "model = YOLO(\"yolov8n.yaml\")\n",
    "model = YOLO(\"checkpoints/yolov8n.pt\")  \n",
    "model = YOLO(\"yolov8n.yaml\").load(\"checkpoints/yolov8n.pt\")  "
   ]
  },
  {
   "cell_type": "code",
   "execution_count": null,
   "id": "8a1af386-ede6-4048-8916-cc5d22b1773b",
   "metadata": {},
   "outputs": [],
   "source": [
    "results = model.train(data=\"xray.yaml\", conf=0.1, epochs=2, imgsz=640)"
   ]
  },
  {
   "cell_type": "code",
   "execution_count": null,
   "id": "b23aecbc-ddcd-49d9-bd94-7f640be690b9",
   "metadata": {},
   "outputs": [],
   "source": []
  }
 ],
 "metadata": {
  "kernelspec": {
   "display_name": "Python 3 (ipykernel)",
   "language": "python",
   "name": "python3"
  },
  "language_info": {
   "codemirror_mode": {
    "name": "ipython",
    "version": 3
   },
   "file_extension": ".py",
   "mimetype": "text/x-python",
   "name": "python",
   "nbconvert_exporter": "python",
   "pygments_lexer": "ipython3",
   "version": "3.11.7"
  }
 },
 "nbformat": 4,
 "nbformat_minor": 5
}
