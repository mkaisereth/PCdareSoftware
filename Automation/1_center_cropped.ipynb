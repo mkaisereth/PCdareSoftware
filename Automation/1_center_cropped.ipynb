{
 "cells": [
  {
   "cell_type": "code",
   "execution_count": null,
   "id": "2ec7357e-e39f-496c-bedd-73ed998fb133",
   "metadata": {},
   "outputs": [],
   "source": [
    "from PIL import Image\n",
    "from pathlib import Path\n",
    "import matplotlib.pyplot as plt\n",
    "import glob\n",
    "import os\n",
    "\n",
    "import torch\n",
    "from torchvision.transforms import v2\n",
    "import torchvision"
   ]
  },
  {
   "cell_type": "code",
   "execution_count": null,
   "id": "59101a14-73d0-4eb6-9171-a2f14f335d03",
   "metadata": {},
   "outputs": [],
   "source": [
    "# center crop all images and save to output folder\n",
    "cwd = os.getcwd()\n",
    "print(cwd)\n",
    "\n",
    "source_filters = ['./datasample/s/*.jpg', './datasample/m/*.jpg', './datasample/b/*.jpg']\n",
    "destination_folders = ['./datasample/s/cc', './datasample/m/cc', './datasample/b/cc']\n",
    "cc_areas = [[4100, 1200], [3100, 1000], [3100, 1000]]\n",
    "for i in range(len(source_filters)):\n",
    "    source_filter = source_filters[i]\n",
    "    destination_folder = destination_folders[i]\n",
    "    cc_area = cc_areas[i]\n",
    "    print(\"\\n\", len(glob.glob(source_filter)), source_filter, destination_folder, cc_area)\n",
    "    if not os.path.isdir(os.path.join(cwd,destination_folder)):\n",
    "        os.mkdir(os.path.join(cwd,destination_folder))\n",
    "    for filename in glob.glob(source_filter):\n",
    "        print('.', end='')\n",
    "        img = Image.open(filename)\n",
    "        img_cropped = torchvision.transforms.functional.center_crop(img, output_size = cc_area)\n",
    "        \n",
    "        resize = v2.Resize(size=(1024, 1024))\n",
    "        imglast = resize(img_cropped)\n",
    "    \n",
    "        base, ext = os.path.splitext(os.path.basename(filename))  \n",
    "        ext = ext.lower()  \n",
    "    \n",
    "        new_path = os.path.join(destination_folder, f\"{base}{ext}\")\n",
    "        imglast.save(new_path)\n",
    "        \n",
    "print(\".\")\n",
    "print(\"finished\")"
   ]
  },
  {
   "cell_type": "code",
   "execution_count": null,
   "id": "c8a48a88-65f2-4cd9-a484-427a65c832e1",
   "metadata": {},
   "outputs": [],
   "source": []
  }
 ],
 "metadata": {
  "kernelspec": {
   "display_name": "Python 3 (ipykernel)",
   "language": "python",
   "name": "python3"
  },
  "language_info": {
   "codemirror_mode": {
    "name": "ipython",
    "version": 3
   },
   "file_extension": ".py",
   "mimetype": "text/x-python",
   "name": "python",
   "nbconvert_exporter": "python",
   "pygments_lexer": "ipython3",
   "version": "3.11.7"
  }
 },
 "nbformat": 4,
 "nbformat_minor": 5
}
