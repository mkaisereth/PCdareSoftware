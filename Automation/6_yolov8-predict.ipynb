{
 "cells": [
  {
   "cell_type": "code",
   "execution_count": null,
   "id": "707f31c4-8348-4b54-9a0b-88e4cdbb06ec",
   "metadata": {},
   "outputs": [],
   "source": [
    "from ultralytics import YOLO\n",
    "import torch\n",
    "from PIL import Image\n",
    "from torchvision.transforms import v2\n",
    "import torchvision.transforms as T\n",
    "import glob\n",
    "import os\n",
    "import posixpath\n",
    "import cv2\n"
   ]
  },
  {
   "cell_type": "code",
   "execution_count": null,
   "id": "48e7ab29-8c9e-45f1-9d40-51f4d7189f25",
   "metadata": {},
   "outputs": [],
   "source": [
    "model = YOLO(\"yolov8n.yaml\") \n",
    "model = YOLO(\"checkpoints/ckp_yolo_model.pt\")  \n",
    "\n",
    "source = sorted(glob.glob('./datasample/original/images/test/*.jpg'),\n",
    "                    key = lambda i: (len(posixpath.basename(i)), i))\n",
    "print(source)\n",
    "result = model.predict(source, save=True, conf=0.5)"
   ]
  },
  {
   "cell_type": "code",
   "execution_count": null,
   "id": "de088af1-1e6a-4e7b-b3b1-71d1ae3111bc",
   "metadata": {},
   "outputs": [],
   "source": [
    "print(len(result))\n",
    "i = range(0,len(result))\n"
   ]
  },
  {
   "cell_type": "code",
   "execution_count": null,
   "id": "fe438363-530d-4f74-89b4-7dd37e249adc",
   "metadata": {},
   "outputs": [],
   "source": [
    "bbox1 = []\n",
    "name = []\n",
    "\n",
    "for n in i:\n",
    "    boxes = result[n].boxes.xywhn.tolist()\n",
    "    classes = result[n].boxes.cls.tolist()\n",
    "    names = result[n].names\n",
    "    confidences = result[n].boxes.conf.tolist()\n",
    "    # k = result[n].boxes.keypoints.tolist()\n",
    "    bbox1.append(boxes)\n",
    "    name.append(confidences)\n"
   ]
  },
  {
   "cell_type": "code",
   "execution_count": null,
   "id": "f397d63f-2e4a-4bb9-9788-c4d2a9f1e81c",
   "metadata": {},
   "outputs": [],
   "source": [
    "bbox= []\n",
    "\n",
    "for n in i:\n",
    "    b = bbox1[n]\n",
    "    c = b[0]\n",
    "    bbox.append(c)\n",
    "    "
   ]
  },
  {
   "cell_type": "code",
   "execution_count": null,
   "id": "f0b9a239-3423-44ff-9f80-1929ac66c45b",
   "metadata": {},
   "outputs": [],
   "source": [
    "def add_margin(pil_img, top, right, bottom, left, color):\n",
    "    width, height = pil_img.size\n",
    "    new_width = width + right + left\n",
    "    new_height = height + top + bottom\n",
    "    result = Image.new(pil_img.mode, (new_width, new_height), color)\n",
    "    result.paste(pil_img, (left, bottom))\n",
    "    return result"
   ]
  },
  {
   "cell_type": "code",
   "execution_count": null,
   "id": "d9394a4b-6feb-4d6d-b83b-e6f6cfa0c22a",
   "metadata": {},
   "outputs": [],
   "source": [
    "from pathlib import Path\n",
    "Path(\"./output/yolo_output/\").mkdir(parents=True, exist_ok=True)\n",
    "\n",
    "for x, image in zip(bbox, source):\n",
    "    im = Image.open(image)\n",
    "    tens = cv2.imread(image) \n",
    "    image_width = tens.shape[1]\n",
    "    image_height = tens.shape[0] \n",
    "\n",
    "    x_center = x[0]\n",
    "    y_center = x[1]\n",
    "    width = x[2]\n",
    "    height = x[3]\n",
    "\n",
    "    w = width * image_width\n",
    "    h = height * image_height\n",
    "    end_point0 = int((x_center * image_width) - (w/2))\n",
    "    end_point1 = int((y_center * image_height) - (h/2))\n",
    "    start_point0 = int(w + end_point0)\n",
    "    start_point1 = int(h + end_point1)\n",
    " \n",
    "    cropped_image1 = tens[end_point1:start_point1, end_point0:start_point0]\n",
    "    cropped = Image.fromarray(cropped_image1)\n",
    "    resize = v2.Resize(size=(1024, 512)) \n",
    "    cropped_image2 = resize(cropped)\n",
    "    im_new = add_margin(cropped_image2, 0, 256, 0, 256, (0, 0, 0))\n",
    "\n",
    "    base, ext = os.path.splitext(os.path.basename(image))  \n",
    "    ext = ext.lower()\n",
    "    im_new.save('./output/yolo_output/'f\"{base}{ext}\")\n"
   ]
  },
  {
   "cell_type": "code",
   "execution_count": null,
   "id": "1fed660f-2cd1-4836-b344-9525d18505eb",
   "metadata": {},
   "outputs": [],
   "source": []
  }
 ],
 "metadata": {
  "kernelspec": {
   "display_name": "Python 3 (ipykernel)",
   "language": "python",
   "name": "python3"
  },
  "language_info": {
   "codemirror_mode": {
    "name": "ipython",
    "version": 3
   },
   "file_extension": ".py",
   "mimetype": "text/x-python",
   "name": "python",
   "nbconvert_exporter": "python",
   "pygments_lexer": "ipython3",
   "version": "3.11.7"
  }
 },
 "nbformat": 4,
 "nbformat_minor": 5
}
