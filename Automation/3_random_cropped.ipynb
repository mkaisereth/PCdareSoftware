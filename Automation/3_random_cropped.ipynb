{
 "cells": [
  {
   "cell_type": "code",
   "execution_count": null,
   "id": "6e73afea-0a3d-4b8d-849c-c8101e7ffc9a",
   "metadata": {},
   "outputs": [],
   "source": [
    "from PIL import Image\n",
    "import torch\n",
    "from torchvision.transforms import v2\n",
    "import os\n",
    "import glob\n",
    "import posixpath\n",
    "import torchvision.transforms.functional as TF\n"
   ]
  },
  {
   "cell_type": "code",
   "execution_count": null,
   "id": "33b449e3-0958-48dc-bcc6-0819ca0076ed",
   "metadata": {},
   "outputs": [],
   "source": [
    "# flip all images horizontally and save to output folder\n",
    "cwd = os.getcwd()\n",
    "\n",
    "source_filters = ['./datasample/s/cc/*.jpg', './datasample/m/cc/*.jpg', './datasample/b/cc/*.jpg']\n",
    "destination_folders = ['./datasample/s/cc/aug', './datasample/m/cc/aug', './datasample/b/cc/aug']\n",
    "\n",
    "for i in range(len(source_filters)):\n",
    "    source_filter = source_filters[i]\n",
    "    source_label_filter = source_filter.replace(\".jpg\", \"_label.jpg\")\n",
    "    destination_folder = destination_folders[i]\n",
    "    print(\"\\n\", len(glob.glob(source_filter)), source_filter, source_label_filter, destination_folder)\n",
    "    if not os.path.isdir(os.path.join(cwd,destination_folder)):\n",
    "        os.mkdir(os.path.join(cwd,destination_folder))\n",
    "    \n",
    "    all_images = sorted(glob.glob(source_filter),\n",
    "                        key = lambda i: (len(posixpath.basename(i)), i))\n",
    "    all_labels = sorted(glob.glob(source_label_filter),\n",
    "                        key = lambda i: (len(posixpath.basename(i)), i))\n",
    "    all_inputs = []\n",
    "    \n",
    "    for i in all_images:\n",
    "        if i in all_labels:\n",
    "            continue \n",
    "        else:\n",
    "            all_inputs.append(i)\n",
    "    \n",
    "    for input, label in zip(all_inputs, all_labels):\n",
    "        print('.', end='')\n",
    "        im1 = Image.open(input)\n",
    "        im2 = Image.open(label)\n",
    "        \n",
    "        i, j, h, w = v2.RandomCrop.get_params(im1, output_size=(768, 512))\n",
    "        image = TF.crop(im1, i, j, h, w)\n",
    "        mask = TF.crop(im2, i, j, h, w)\n",
    "        resize = v2.Resize(size=(1024, 1024))\n",
    "        image1 = resize(image)\n",
    "        mask1 = resize(mask)\n",
    "        \n",
    "        base1, ext1 = os.path.splitext(os.path.basename(input))  \n",
    "        ext1 = ext1.lower()  \n",
    "        base2, ext2 = os.path.splitext(os.path.basename(label))  \n",
    "        ext2 = ext2.lower()  \n",
    "    \n",
    "        new_path1 = os.path.join(destination_folder, f\"{base1}rc{ext1}\")\n",
    "        image1.save(new_path1)\n",
    "    \n",
    "        new_path2 = os.path.join(destination_folder, f\"{base2[:-6]}rc_label{ext2}\") \n",
    "        mask1.save(new_path2)\n",
    "        \n",
    "print(\".\")\n",
    "print(\"finished\")"
   ]
  },
  {
   "cell_type": "code",
   "execution_count": null,
   "id": "be53d600-9e09-4d7a-b1c8-9bf2b2860a6c",
   "metadata": {},
   "outputs": [],
   "source": []
  }
 ],
 "metadata": {
  "kernelspec": {
   "display_name": "Python 3 (ipykernel)",
   "language": "python",
   "name": "python3"
  },
  "language_info": {
   "codemirror_mode": {
    "name": "ipython",
    "version": 3
   },
   "file_extension": ".py",
   "mimetype": "text/x-python",
   "name": "python",
   "nbconvert_exporter": "python",
   "pygments_lexer": "ipython3",
   "version": "3.11.7"
  }
 },
 "nbformat": 4,
 "nbformat_minor": 5
}
