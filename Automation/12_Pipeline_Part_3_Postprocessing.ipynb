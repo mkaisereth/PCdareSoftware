{
 "cells": [
  {
   "cell_type": "code",
   "execution_count": null,
   "id": "2ec7357e-e39f-496c-bedd-73ed998fb133",
   "metadata": {},
   "outputs": [],
   "source": [
    "from PIL import Image\n",
    "from pathlib import Path\n",
    "import matplotlib.pyplot as plt\n",
    "import glob\n",
    "import os\n",
    "import posixpath\n",
    "\n",
    "import torch\n",
    "from torchvision.transforms import v2\n",
    "import torchvision\n",
    "\n",
    "import numpy as np\n",
    "import cv2 as cv\n",
    "import math\n",
    "from scipy import interpolate\n",
    "from numpy import asarray\n",
    "import torchvision.transforms as transforms\n"
   ]
  },
  {
   "cell_type": "code",
   "execution_count": null,
   "id": "87b58e24-861d-46d3-91bd-47cb2fd5cd5e",
   "metadata": {},
   "outputs": [],
   "source": [
    "source1 = sorted(glob.glob('./output/txt/*.txt'), key = lambda i: (len(posixpath.basename(i)), i))\n",
    "\n",
    "source2 = sorted(glob.glob('./output/afterunet/*_prediction.jpg'), key = lambda i: (len(posixpath.basename(i)), i))\n",
    "source3 = sorted(glob.glob('./datasample/test_set_yolo/test*.jpg'), key = lambda i: (len(posixpath.basename(i)), i))\n",
    "print(source1)\n",
    "print(source2)\n",
    "print(source3)"
   ]
  },
  {
   "cell_type": "code",
   "execution_count": null,
   "id": "7817f109-5b64-4833-9ab7-7fe88bb96e12",
   "metadata": {},
   "outputs": [],
   "source": [
    "def add_margin(pil_img, top, right, bottom, left, color):\n",
    "    width, height = pil_img.size\n",
    "    new_width = width + right + left\n",
    "    new_height = height + top + bottom\n",
    "    result = Image.new(pil_img.mode, (new_width, new_height), color)\n",
    "    result.paste(pil_img, (left, bottom))\n",
    "    return result"
   ]
  },
  {
   "cell_type": "markdown",
   "id": "a5a46df4-3ac8-4357-8d1c-15555a5389cc",
   "metadata": {},
   "source": [
    "# Post Processing\n",
    "Brings Unet predictions back to original size"
   ]
  },
  {
   "cell_type": "code",
   "execution_count": null,
   "id": "59101a14-73d0-4eb6-9171-a2f14f335d03",
   "metadata": {},
   "outputs": [],
   "source": [
    "from pathlib import Path\n",
    "Path(\"./output/processed/\").mkdir(parents=True, exist_ok=True)\n",
    "\n",
    "destination_folder = './output/processed/'\n",
    "\n",
    "for prediction, txt, image in zip(source2, source1, source3):\n",
    "    \n",
    "    with open(txt, 'r') as txts:\n",
    "      content = txts.readline().strip()  \n",
    "    \n",
    "    numbers_as_string = content.split()\n",
    "    numbers = [int(number) for number in numbers_as_string]\n",
    "    w = numbers[0]\n",
    "    h = numbers[1]\n",
    "    x1 = numbers[2]\n",
    "    y1 = numbers[3]\n",
    "    x2 = numbers[4]\n",
    "    y2 = numbers[5]\n",
    "    img = Image.open(prediction)\n",
    "    resize = v2.Resize(size=(512, 512))\n",
    "    im1 = resize(img)\n",
    "    resize2 = v2.Resize(size=(1024, 1024))\n",
    "    im2 = resize2(im1)\n",
    "    im_new1 = add_margin(im2, 0, -256, 0, -256, (0,))\n",
    "    resize3 = v2.Resize(size=(h, w))\n",
    "    im_new2 = resize3(im_new1)\n",
    "    im_pad = add_margin(im_new2, y2, x2, y1, x1, (0,))\n",
    "\n",
    "    base, ext = os.path.splitext(os.path.basename(prediction))  \n",
    "    ext = ext.lower()  \n",
    "\n",
    "    original_image = cv.imread(image)\n",
    "\n",
    "    new_path = os.path.join(destination_folder, f\"{base}{ext}\")\n",
    "\n",
    "    im_pad.save(new_path)\n"
   ]
  },
  {
   "cell_type": "code",
   "execution_count": null,
   "id": "14ee69e0-1eb4-4270-beb6-c4b4d5227dd3",
   "metadata": {},
   "outputs": [],
   "source": []
  }
 ],
 "metadata": {
  "kernelspec": {
   "display_name": "Python 3 (ipykernel)",
   "language": "python",
   "name": "python3"
  },
  "language_info": {
   "codemirror_mode": {
    "name": "ipython",
    "version": 3
   },
   "file_extension": ".py",
   "mimetype": "text/x-python",
   "name": "python",
   "nbconvert_exporter": "python",
   "pygments_lexer": "ipython3",
   "version": "3.11.7"
  }
 },
 "nbformat": 4,
 "nbformat_minor": 5
}
